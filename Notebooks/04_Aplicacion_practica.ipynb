{
 "cells": [
  {
   "cell_type": "markdown",
   "id": "f91b365c-70ed-4fde-8315-468681870af1",
   "metadata": {},
   "source": [
    "### **Proyecto Final: Análisis de Ventas de Cafeterías**\n",
    "\n",
    "- En este cuarto notebook se espera abordar el punto n°7 de la evaluación, llamado \"Aplicación Práctica del Dataset\""
   ]
  }
 ],
 "metadata": {
  "kernelspec": {
   "display_name": "proyecto_final_py (Python 3.12)",
   "language": "python",
   "name": "proyecto_final_py"
  },
  "language_info": {
   "codemirror_mode": {
    "name": "ipython",
    "version": 3
   },
   "file_extension": ".py",
   "mimetype": "text/x-python",
   "name": "python",
   "nbconvert_exporter": "python",
   "pygments_lexer": "ipython3",
   "version": "3.12.4"
  }
 },
 "nbformat": 4,
 "nbformat_minor": 5
}
