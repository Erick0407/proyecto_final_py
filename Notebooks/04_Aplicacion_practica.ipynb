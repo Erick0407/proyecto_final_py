{
 "cells": [
  {
   "cell_type": "markdown",
   "id": "f91b365c-70ed-4fde-8315-468681870af1",
   "metadata": {},
   "source": [
    "### **Proyecto Final: Análisis de Ventas de Cafeterías**\n",
    "\n",
    "- En este cuarto notebook se espera abordar el punto n°7 de la evaluación, llamado \"Aplicación Práctica del Dataset\""
   ]
  },
  {
   "cell_type": "markdown",
   "id": "1fc3367e-704c-4cf1-aebc-55ccd0be3848",
   "metadata": {},
   "source": [
    "#### I. Descripción de la Propuesta"
   ]
  },
  {
   "cell_type": "markdown",
   "id": "5f22be05-9d59-4136-a9cf-7ee356aedc51",
   "metadata": {},
   "source": [
    "- Dado los hallazgos que se han encontrado mediante el apartado n° 3 de Análisis y Visualizaciones, y en conjunto con mis conocimientos y experiencia sobre negocios, considero que una buena alternativa sería desarrollar una `aplicación que ayude a Optimizar las Ventas en las Cafeterías`.\n",
    "- La finalidad de esta aplicación sería proporcionar información a los Gerentes o Dueños de las cafeterías para que tomen \"mejores decisiones\", o basadas en datos históricos y análisis estadísticos de las ventas.\n",
    "- Algunos características que debiese presentar esta aplicación, son por ejemplo: Predicciones de ventas (Forecast), sugerencias de inventarios (para la logística), promociones personalizadas (marketing), y análisis de rendimientos de productos y horarios (planes de negocio)."
   ]
  }
 ],
 "metadata": {
  "kernelspec": {
   "display_name": "proyecto_final_py (Python 3.12)",
   "language": "python",
   "name": "proyecto_final_py"
  },
  "language_info": {
   "codemirror_mode": {
    "name": "ipython",
    "version": 3
   },
   "file_extension": ".py",
   "mimetype": "text/x-python",
   "name": "python",
   "nbconvert_exporter": "python",
   "pygments_lexer": "ipython3",
   "version": "3.12.4"
  }
 },
 "nbformat": 4,
 "nbformat_minor": 5
}
