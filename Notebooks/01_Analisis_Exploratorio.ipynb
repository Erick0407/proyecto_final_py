{
 "cells": [
  {
   "cell_type": "markdown",
   "id": "5d4cf342-8983-4ccf-94d1-182cb7fa7e11",
   "metadata": {},
   "source": [
    "### **Proyecto Final: Análisis de Ventas de Cafeterías**\n",
    "\n",
    "\n",
    "#### I. Descripción general del DataSet\n",
    "\n",
    "- Para este proyecto, se ha seleccionado el dataset llamado **Ventas de Cafeterías**, el cual se puede encontrar en `Kaggle`, mediante la siguiente dirección web: https://www.kaggle.com/datasets/ahmedabbas757/coffee-sales\n",
    "- Como detalle general, se puede mencionar que este dataset contiene registros de transacciones de una cafetería ficticia llamada \"Maven Roasters\", la cual opera mediante 3 sucursales en la ciudad de Nueva York (USA).\n",
    "- La extensión del dataset original era Excel (xlsx), fue transformado a CSV."
   ]
  }
 ],
 "metadata": {
  "kernelspec": {
   "display_name": "proyecto_final_py (Python 3.12)",
   "language": "python",
   "name": "proyecto_final_py"
  },
  "language_info": {
   "codemirror_mode": {
    "name": "ipython",
    "version": 3
   },
   "file_extension": ".py",
   "mimetype": "text/x-python",
   "name": "python",
   "nbconvert_exporter": "python",
   "pygments_lexer": "ipython3",
   "version": "3.12.4"
  }
 },
 "nbformat": 4,
 "nbformat_minor": 5
}
