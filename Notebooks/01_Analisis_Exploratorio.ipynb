{
 "cells": [
  {
   "cell_type": "markdown",
   "id": "5d4cf342-8983-4ccf-94d1-182cb7fa7e11",
   "metadata": {},
   "source": [
    "### **Proyecto Final: Análisis de Ventas de Cafeterías**\n",
    "\n",
    "\n",
    "#### I. Descripción general del DataSet\n",
    "\n",
    "- Para este proyecto, se ha seleccionado el dataset llamado **Ventas de Cafeterías**, el cual se puede encontrar en `Kaggle`, mediante la siguiente dirección web: https://www.kaggle.com/datasets/ahmedabbas757/coffee-sales\n",
    "- Como detalle general, se puede mencionar que este dataset contiene registros de transacciones de una cafetería ficticia llamada \"Maven Roasters\", la cual opera mediante 3 sucursales en la ciudad de Nueva York (USA).\n",
    "- La extensión del dataset original era Excel (xlsx), fue transformado a CSV."
   ]
  },
  {
   "cell_type": "markdown",
   "id": "92dc6687-e708-4a7d-b3bb-e91cae71675e",
   "metadata": {},
   "source": [
    "#### II. Importación de Librerias"
   ]
  },
  {
   "cell_type": "code",
   "execution_count": 1,
   "id": "7a0bf0c4-1776-44ab-9ce3-360bff3942e9",
   "metadata": {},
   "outputs": [],
   "source": [
    "# A continuación se realiza la importación de las librerias a utilizar\n",
    "import pandas as pd\n",
    "import numpy as np"
   ]
  }
 ],
 "metadata": {
  "kernelspec": {
   "display_name": "proyecto_final_py (Python 3.12)",
   "language": "python",
   "name": "proyecto_final_py"
  },
  "language_info": {
   "codemirror_mode": {
    "name": "ipython",
    "version": 3
   },
   "file_extension": ".py",
   "mimetype": "text/x-python",
   "name": "python",
   "nbconvert_exporter": "python",
   "pygments_lexer": "ipython3",
   "version": "3.12.4"
  }
 },
 "nbformat": 4,
 "nbformat_minor": 5
}
