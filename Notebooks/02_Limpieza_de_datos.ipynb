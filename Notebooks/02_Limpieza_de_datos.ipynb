{
 "cells": [
  {
   "cell_type": "markdown",
   "id": "e24b2762-70cc-49c0-b64b-9d4acdbcad68",
   "metadata": {},
   "source": [
    "### **Proyecto Final: Análisis de Ventas de Cafeterías**\n",
    "\n",
    "- De acuerdo al Análisis Exploratorio y los hallazgos que fueron encontrados, a través de este nuevo notebook se busca realizar una limpieza del dataset con la finalidad de garantizar su disposición para el análisis posterior."
   ]
  },
  {
   "cell_type": "markdown",
   "id": "048c3c40-4db6-4961-b31d-4094f8ebcef5",
   "metadata": {},
   "source": [
    "#### I. Importación de Librerias"
   ]
  },
  {
   "cell_type": "code",
   "execution_count": 1,
   "id": "4b09afff-6f41-4fb9-9b8a-509226110e83",
   "metadata": {},
   "outputs": [],
   "source": [
    "# A continuación se realiza la importación de las librerias a utilizar\n",
    "import pandas as pd\n",
    "import numpy as np"
   ]
  }
 ],
 "metadata": {
  "kernelspec": {
   "display_name": "proyecto_final_py (Python 3.12)",
   "language": "python",
   "name": "proyecto_final_py"
  },
  "language_info": {
   "codemirror_mode": {
    "name": "ipython",
    "version": 3
   },
   "file_extension": ".py",
   "mimetype": "text/x-python",
   "name": "python",
   "nbconvert_exporter": "python",
   "pygments_lexer": "ipython3",
   "version": "3.12.4"
  }
 },
 "nbformat": 4,
 "nbformat_minor": 5
}
