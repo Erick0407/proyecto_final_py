{
 "cells": [
  {
   "cell_type": "markdown",
   "id": "bc1fea36-f33d-42ff-97a2-487ff9b3501e",
   "metadata": {},
   "source": [
    "### **Proyecto Final: Análisis de Ventas de Cafeterías**\n",
    "\n",
    "- En este tercer notebook se desarrollarán las siguientes actividades: Análisis univariado y visualizaciones, Análisis de Correlación, Creación de nuevas variables, Análisis multivariado y visualizaciones.\n",
    "- Para lograr lo anterior, se trabajará con el Dataset modificado que se creó en la etapa anterior de `Limpieza de datos`."
   ]
  },
  {
   "cell_type": "markdown",
   "id": "e891e38a-8714-4bd7-b0ac-18bfaca87860",
   "metadata": {},
   "source": [
    "#### I. Importación de Librerias"
   ]
  },
  {
   "cell_type": "code",
   "execution_count": 2,
   "id": "ef424771-a233-4320-937b-01329cfa16d7",
   "metadata": {},
   "outputs": [],
   "source": [
    "# A continuación se realiza la importación de las librerias a utilizar\n",
    "import pandas as pd\n",
    "import numpy as np\n",
    "import matplotlib.pyplot as plt\n",
    "import seaborn as sns\n",
    "import plotly.express as px"
   ]
  }
 ],
 "metadata": {
  "kernelspec": {
   "display_name": "proyecto_final_py (Python 3.12)",
   "language": "python",
   "name": "proyecto_final_py"
  },
  "language_info": {
   "codemirror_mode": {
    "name": "ipython",
    "version": 3
   },
   "file_extension": ".py",
   "mimetype": "text/x-python",
   "name": "python",
   "nbconvert_exporter": "python",
   "pygments_lexer": "ipython3",
   "version": "3.12.4"
  }
 },
 "nbformat": 4,
 "nbformat_minor": 5
}
